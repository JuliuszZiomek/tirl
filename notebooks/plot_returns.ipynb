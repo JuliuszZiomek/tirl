{
 "cells": [
  {
   "cell_type": "code",
   "execution_count": 577,
   "id": "e093e918",
   "metadata": {},
   "outputs": [],
   "source": [
    "import numpy as np\n",
    "import pickle\n",
    "import matplotlib.pyplot as plt\n",
    "import matplotlib\n",
    "from pathlib import Path\n",
    "import seaborn as sns\n",
    "import pandas as pd\n",
    "import sys\n",
    "sys.path.append('..')\n",
    "import neatplot\n",
    "neatplot.set_style()\n",
    "neatplot.update_rc('font.size', 16)\n",
    "matplotlib.rcParams['text.usetex'] = True\n",
    "%matplotlib inline"
   ]
  },
  {
   "cell_type": "code",
   "execution_count": 578,
   "id": "9655a2ea",
   "metadata": {},
   "outputs": [],
   "source": [
    "# sns.set_theme()"
   ]
  },
  {
   "cell_type": "code",
   "execution_count": 579,
   "id": "83aabede",
   "metadata": {},
   "outputs": [],
   "source": [
    "base_path = Path('../experiments')\n",
    "baseline_path = Path('../../bac-baselines/experiments')\n",
    "process_seeds = True"
   ]
  },
  {
   "cell_type": "code",
   "execution_count": 646,
   "id": "a08e37fe",
   "metadata": {},
   "outputs": [],
   "source": [
    "env_name = 'Reacher'"
   ]
  },
  {
   "cell_type": "code",
   "execution_count": 647,
   "id": "cdfcfc80",
   "metadata": {},
   "outputs": [],
   "source": [
    "pend_paths = {# 'BAC (seed 12)': 'random_init_12_2021-08-05/10-02-01/',\n",
    "         #'BAC': 'pend_norm_tele_mg_3mc_2021-08-16/21-16-21',\n",
    "         #'Rollout BAC': 'rollout_bac_telenorm_multi_2021-08-17/22-44-48/',\n",
    "         'BARL': 'bac_pendulum_2021-09-30/10-03-18/',\n",
    "         'RQMPC': 'random_pendulum_2021-09-30/13-06-45/',\n",
    "         'MPC': 'mbrl_pendulum_2021-09-30/12-16-37/',\n",
    "         r'$EIG_T$': 'us_pendulum_2021-10-02/17-05-00/',\n",
    "         'PETS': 'pets_pendulum_2021-09-26/12-05-56/',\n",
    "         'SAC': 'sac_pendulum_2021-09-30/12-44-00/',\n",
    "         'TD3': 'td3_pendulum_2021-10-01/11-50-44/',\n",
    "         'PPO': 'ppo_pendulum_2021-09-30/15-58-55',\n",
    "        }"
   ]
  },
  {
   "cell_type": "code",
   "execution_count": 648,
   "id": "9feaa541",
   "metadata": {},
   "outputs": [],
   "source": [
    "cartpole_paths = {\n",
    "         # 'BAC': 'cartpole_multistart_2021-08-20/12-52-46/',\n",
    "         'BARL': 'bac_cartpole_2021-09-30/10-06-18/',\n",
    "         # 'RQMPC': 'random_cartpole_2021-09-30/14-41-06/',\n",
    "         # 'MPC': 'mbrl_cartpole_2021-09-30/14-23-08/',\n",
    "         r'$EIG_T$': 'us_cartpole_2021-10-02/18-03-05/',\n",
    "         # 'Rollout BAC': 'cartpole_multistart_rollout_bac_2021-08-19/17-59-03/',\n",
    "         # 'PETS': 'pets_cartpole_2021-09-26/12-17-26/',\n",
    "         # 'SAC': 'sac_cartpole_2021-09-30/12-46-23/',\n",
    "         # 'TD3': 'td3_cartpole_2021-10-01/11-59-14/',\n",
    "         # 'PPO': 'ppo_cartpole_2021-10-01/13-04-31/',         \n",
    "}"
   ]
  },
  {
   "cell_type": "code",
   "execution_count": 649,
   "id": "f2ac17cc",
   "metadata": {},
   "outputs": [],
   "source": [
    "lava_paths = {\n",
    "        # 'BAC': 'bac_lava_path_2021-09-09/10-57-31/',\n",
    "        'BARL': 'bac_lava_path_2021-09-25/11-47-59/',\n",
    "        'RQMPC': 'random_lava_path_2021-09-30/22-58-35/',\n",
    "        'MPC': 'mbrl_lava_path_2021-09-25/14-30-03/',\n",
    "        r'$EIG_T$': 'us_lava_path_2021-10-02/18-27-22/',\n",
    "        # 'PETS': 'pets_lava_path_2021-09-30/09-17-18/',\n",
    "        'SAC': 'sac_lava_path_2021-09-30/12-45-03/',\n",
    "        'TD3': 'td3_lava_path_2021-10-01/12-06-39/',\n",
    "        'PPO': 'ppo_lava_path_2021-10-01/17-35-57/',\n",
    "}"
   ]
  },
  {
   "cell_type": "code",
   "execution_count": 650,
   "id": "2901708e",
   "metadata": {},
   "outputs": [],
   "source": [
    "reacher_paths = {\n",
    "        # 'BAC (uniform)': 'bac_reacher_2021-09-01/17-14-04/',\n",
    "        # 'BAC (path sampling)': 'bac_reacher_rand_2021-09-01/17-14-02/',\n",
    "        \n",
    "        # 'BAC (ARD)': 'ard_reacher_bac_2021-09-18/14-59-33/',\n",
    "        # 'BAC (periodic ARD)':'reacher_periodic_bac_2021-09-18/15-26-28/',\n",
    "        # 'BAC (heavy path)': 'bac_reacher_heavy_paths_2021-09-27/09-48-01/',\n",
    "        # 'BAC (noisy heavy path)': 'bac_reacher_noisy_heavy_path_2021-09-29/13-21-31',\n",
    "        'BARL': 'bac_reacher_2021-09-29/10-38-12/',\n",
    "        'RQMPC': 'random_reacher_2021-10-01/16-03-06/',\n",
    "        'MPC': 'mbrl_reacher_2021-09-30/22-54-56/',\n",
    "        # r'$EIG_T$': 'us_reacher_2021-10-02/23-06-51/',\n",
    "        'PETS': 'pets_reacher_2021-09-30/17-18-38/',\n",
    "        'SAC': 'sac_reacher_2021-09-30/17-29-38/',\n",
    "        'TD3': 'td3_reacher_2021-10-01/11-53-22/',\n",
    "        'PPO': 'ppo_reacher_2021-09-30/19-36-17/',\n",
    "}"
   ]
  },
  {
   "cell_type": "code",
   "execution_count": 651,
   "id": "5f0bd83f",
   "metadata": {},
   "outputs": [],
   "source": [
    "beta_tracking_paths = {\n",
    "        'BARL': 'bac_beta_tracking_2021-09-25/12-14-51/',\n",
    "        'RQMPC': 'random_beta_tracking_2021-09-25/14-08-07/',\n",
    "        'MPC': 'mbrl_beta_tracking_2021-09-25/13-57-02/',\n",
    "        r'$EIG_T$': 'us_beta_tracking_2021-10-02/22-41-29/',\n",
    "        'PETS (redo)': 'pets_beta_tracking_2021-09-22/18-51-05/',\n",
    "        'SAC (redo)': 'sac_beta_tracking_2021-09-23/09-27-24/',\n",
    "        'TD3 (redo)': 'td3_beta_tracking_2021-09-22/18-30-55/',\n",
    "        'PPO (redo)': 'ppo_beta_tracking_2021-09-22/18-32-20/',\n",
    "}"
   ]
  },
  {
   "cell_type": "code",
   "execution_count": 652,
   "id": "995bce4f",
   "metadata": {},
   "outputs": [],
   "source": [
    "plasma_tracking_paths = {\n",
    "        'BARL': 'bac_plasma_tracking_path_2021-10-01/20-37-15/',\n",
    "        'PETS': 'pets_plasma_tracking_2021-10-01/15-53-40/',\n",
    "        'SAC': 'sac_plasma_tracking_2021-10-02/23-01-19/',\n",
    "        'TD3': 'td3_plasma_tracking_2021-10-03/01-05-24/',\n",
    "        'PPO': 'ppo_plasma_tracking_2021-10-03/02-13-23/',\n",
    "}"
   ]
  },
  {
   "cell_type": "code",
   "execution_count": 653,
   "id": "b58c090c",
   "metadata": {},
   "outputs": [],
   "source": [
    "reacher_tight_paths = {\n",
    "        #'BAC (ARD)': 'bac_reacher_tight_ard_2021-09-21/10-06-46/',\n",
    "        #'Random (ARD)': 'random_reacher_tight_ard_2021-09-21/23-56-00/',\n",
    "        'BAC (path sampling)': 'bac_reacher_tight_paths_2021-09-25/10-58-57/',\n",
    "        'BAC (heavy hypers)': 'bac_reacher_tight_heavy_hypers_2021-09-25/10-58-04/',\n",
    "        'BAC (heavy path)': 'bac_reacher_tight_heavy_paths_2021-09-26/14-38-26/',\n",
    "        'PETS': 'pets_reacher_tight_2021-09-22/18-59-17/',\n",
    "        'PETS': ''\n",
    "        # 'SAC': 'sac_reacher_tight_2021-09-22/18-34-13/',\n",
    "        # 'TD3': 'td3_reacher_tight_2021-09-22/15-24-00/',\n",
    "        # 'PPO': 'ppo_reacher_tight_2021-09-22/15-25-08/',\n",
    "}"
   ]
  },
  {
   "cell_type": "code",
   "execution_count": 654,
   "id": "ecca772b",
   "metadata": {},
   "outputs": [],
   "source": [
    "swimmer_paths = {\n",
    "        'BAC (ARD)': 'bac_swimmer_ard_2021-09-17/15-13-29/'\n",
    "}"
   ]
  },
  {
   "cell_type": "code",
   "execution_count": 655,
   "id": "52e955e6",
   "metadata": {},
   "outputs": [],
   "source": [
    "all_paths = {\"Cartpole\": cartpole_paths,\n",
    "             \"Pendulum\": pend_paths,\n",
    "             \"Reacher\": reacher_paths, \n",
    "             'Lava Path': lava_paths, \n",
    "             \"Reacher (tight)\": reacher_tight_paths,\n",
    "             \"Beta Tracking\": beta_tracking_paths,\n",
    "             'Swimmer': swimmer_paths,\n",
    "             'Plasma Tracking': plasma_tracking_paths,\n",
    "            }\n",
    "paths = all_paths[env_name]\n",
    "gt = {\"Pendulum\": -250,\n",
    "      \"Cartpole\": -13,\n",
    "      \"Reacher\": -5,\n",
    "      'Lava Path': -30,\n",
    "      'Reacher (tight)': -8.78,\n",
    "      'Swimmer': 30,\n",
    "      'Beta Tracking': -3,\n",
    "      'Plasma Tracking': -5\n",
    "     }\n",
    "ylim_bottom = {\n",
    "        \"Pendulum\": -1500,\n",
    "        \"Cartpole\": -25,\n",
    "        \"Reacher\": -20,\n",
    "        \"Lava Path\": -500,\n",
    "        \"Beta Tracking\": -12,\n",
    "        \"Plasma Tracking\": -40,\n",
    "}\n",
    "gt_val = gt[env_name]\n",
    "bottom_val = ylim_bottom[env_name]"
   ]
  },
  {
   "cell_type": "code",
   "execution_count": 656,
   "id": "b5a86878",
   "metadata": {},
   "outputs": [],
   "source": [
    "def process_bac(data):\n",
    "    returns = np.vstack(data['Eval Returns'])\n",
    "\n",
    "    data['Eval Mean Returns'] = returns.mean(axis=1)\n",
    "    data['Eval Std Returns'] = returns.std(axis=1)#  / np.sqrt(returns.shape[1])\n",
    "    return data\n",
    "\n",
    "\n",
    "def process_bac_seeds(path):\n",
    "    data = {}\n",
    "    returns = []\n",
    "    for i in range(5):\n",
    "        seed_path = path / f\"seed_{i}\" / \"info.pkl\"\n",
    "        if not seed_path.exists():\n",
    "            continue\n",
    "        with seed_path.open('rb') as f:\n",
    "            seed_data = pickle.load(f)\n",
    "        seed_returns = np.vstack(seed_data['Eval Returns'])\n",
    "        returns.append(seed_returns.mean(axis=1))\n",
    "        if i == 0:\n",
    "            data['Eval ndata'] = seed_data['Eval ndata']\n",
    "    max_return_length = max([len(ret) for ret in returns])\n",
    "    returns = [ret for ret in returns if len(ret) == max_return_length]\n",
    "    returns = np.vstack(returns)\n",
    "    n_trials = returns.shape[0]\n",
    "    data['Eval Mean Returns'] = returns.mean(axis=0)\n",
    "    data['Eval Std Returns'] = returns.std(axis=0) / np.sqrt(n_trials)\n",
    "    data['Eval Seed Returns'] = returns\n",
    "    return data\n",
    "            \n",
    "\n",
    "def process_baseline(data):\n",
    "    out = {}\n",
    "    out['Eval Mean Returns'] = data[\"evaluation/Returns Mean\"]\n",
    "    out['Eval ndata'] = data['exploration/num steps total']\n",
    "    out['Eval Std Returns'] = data['evaluation/Returns Std']\n",
    "    return out\n",
    "\n",
    "\n",
    "def process_baseline_seeds(path):\n",
    "    if (path / f\"seed_0\" / \"info.pkl\").exists():\n",
    "        return process_bac_seeds(path)\n",
    "    data = {}\n",
    "    returns = []\n",
    "    for i in range(5):\n",
    "        seed_path = path / f\"seed_{i}\" / \"progress.csv\"\n",
    "        if not seed_path.exists():\n",
    "            continue\n",
    "        data_res = pd.read_csv(seed_path)\n",
    "        returns.append(data_res[\"evaluation/Returns Mean\"])\n",
    "        if i == 0:\n",
    "            data['Eval ndata'] = data_res['exploration/num steps total']\n",
    "    max_return_length = max([len(ret) for ret in returns])\n",
    "    returns = [ret for ret in returns if len(ret) == max_return_length]\n",
    "    if len(returns) == 0:\n",
    "        return {}\n",
    "    returns = np.vstack(returns)\n",
    "    \n",
    "    data['Eval Mean Returns'] = returns.mean(axis=0)\n",
    "    data['Eval Std Returns'] = returns.std(axis=0) / np.sqrt(returns.shape[0])\n",
    "    data['Eval Seed Returns'] = returns\n",
    "    return data"
   ]
  },
  {
   "cell_type": "code",
   "execution_count": null,
   "id": "af41a274",
   "metadata": {
    "scrolled": true
   },
   "outputs": [],
   "source": []
  },
  {
   "cell_type": "code",
   "execution_count": 657,
   "id": "bfba23d1",
   "metadata": {},
   "outputs": [
    {
     "name": "stdout",
     "output_type": "stream",
     "text": [
      "BARL\n",
      "found seed data for BARL\n",
      "RQMPC\n",
      "found seed data for RQMPC\n",
      "MPC\n",
      "found seed data for MPC\n",
      "PETS\n",
      "found seed data for PETS\n",
      "SAC\n",
      "found seed data for SAC\n",
      "TD3\n",
      "found seed data for TD3\n",
      "PPO\n",
      "found seed data for PPO\n"
     ]
    }
   ],
   "source": [
    "data = {}\n",
    "for key, path in paths.items():\n",
    "    print(key)\n",
    "    info_path = base_path / path / 'info.pkl'\n",
    "    if info_path.exists():\n",
    "        with info_path.open('rb') as f:\n",
    "            data[key] = process_bac(pickle.load(f))\n",
    "        continue\n",
    "    info_seed_path = base_path / path / 'seed_0'\n",
    "    if info_seed_path.exists():\n",
    "        if process_seeds:\n",
    "            data[key] = process_bac_seeds(base_path / path)\n",
    "        else:\n",
    "            info_path = info_seed_path / 'info.pkl'\n",
    "            with info_path.open('rb') as f:\n",
    "                data[key] = process_bac(pickle.load(f))\n",
    "        print(f'found seed data for {key}')\n",
    "        continue\n",
    "    baseline_exp_path = baseline_path / path / 'progress.csv'\n",
    "    if baseline_exp_path.exists():\n",
    "        data_res = pd.read_csv(baseline_exp_path)\n",
    "        reformatted_data = process_baseline(data_res)\n",
    "        data[key] = reformatted_data\n",
    "        continue\n",
    "    baseline_pkl_path = baseline_path / path / 'info.pkl'\n",
    "    if baseline_pkl_path.exists():\n",
    "        with baseline_pkl_path.open('rb') as f:\n",
    "            data[key] = process_bac(pickle.load(f))\n",
    "        continue\n",
    "    baseline_seed_path = baseline_path / path /'seed_0'\n",
    "    if baseline_seed_path.exists():\n",
    "        if True:\n",
    "            val = process_baseline_seeds(baseline_path / path)\n",
    "            if len(val) == 0:\n",
    "                continue\n",
    "            data[key] = val\n",
    "        else:\n",
    "            data[key] = process_baseline(baseline_seed_path)\n",
    "        print(f\"found seed data for {key}\")\n",
    "        continue\n",
    "    print(f\"Data for {key} not found!\")"
   ]
  },
  {
   "cell_type": "code",
   "execution_count": 658,
   "id": "402dfd18",
   "metadata": {},
   "outputs": [
    {
     "data": {
      "text/plain": [
       "dict_keys(['BARL', 'RQMPC', 'MPC', 'PETS', 'SAC', 'TD3', 'PPO'])"
      ]
     },
     "execution_count": 658,
     "metadata": {},
     "output_type": "execute_result"
    }
   ],
   "source": [
    "data.keys()"
   ]
  },
  {
   "cell_type": "code",
   "execution_count": 659,
   "id": "5dde48c7",
   "metadata": {
    "scrolled": true
   },
   "outputs": [
    {
     "data": {
      "text/plain": [
       "Text(0.5, 0.98, 'Control Performance on Reacher')"
      ]
     },
     "execution_count": 659,
     "metadata": {},
     "output_type": "execute_result"
    },
    {
     "data": {
      "image/png": "[encoded data removed]",
      "text/plain": [
       "<Figure size 1296x540 with 4 Axes>"
      ]
     },
     "metadata": {
      "needs_background": "light"
     },
     "output_type": "display_data"
    }
   ],
   "source": [
    "fig, [ax1, ax2, ax3, ax4] = plt.subplots(1, 4, figsize=(18, 7.5))\n",
    "for key, vals in data.items():\n",
    "    rmean = vals[\"Eval Mean Returns\"]\n",
    "    rstderr = vals[\"Eval Std Returns\"]\n",
    "    ndata = vals['Eval ndata']\n",
    "    ax1.plot(ndata, rmean, label=key)\n",
    "    ax1.fill_between(ndata, rmean - rstderr, rmean + rstderr, alpha=0.5)\n",
    "    if 'Model MSE' in vals:\n",
    "        mses = vals['Model MSE']\n",
    "        ax2.plot(ndata, mses, label=key)\n",
    "    elif 'Model MSE (current MPC)' in vals:\n",
    "        mses = vals['Model MSE (current MPC)']\n",
    "        ax2.plot(ndata, mses, label=key)\n",
    "    if 'Model MSE (random test set)' in vals:\n",
    "        mses = vals['Model MSE (random test set)']\n",
    "        ax3.plot(ndata, mses, label=key)\n",
    "    if 'Acquisition Function Value' in vals:\n",
    "        acqs = vals['Acquisition Function Value']\n",
    "        ax4.plot(acqs, label=key)\n",
    "    else:\n",
    "        ax4.plot([], label=key)\n",
    "\n",
    "        \n",
    "ax1.set_xlabel('Number of Queries')\n",
    "ax1.set_ylabel('Returns')\n",
    "ax1.axhline(gt_val, color='black', linestyle='--', label=r'$\\pi_T$')\n",
    "ax1.legend()\n",
    "ax2.set_xlabel('Number of Queries')\n",
    "ax2.set_ylabel('Model MSE on Current MPC')\n",
    "ax3.set_ylabel(\"MSE on Random Set\")\n",
    "ax3.set_xlabel('Number of Queries')\n",
    "ax4.set_xlabel('Number of Queries')\n",
    "ax4.set_ylabel('EIG')\n",
    "if env_name == 'Lava Path':\n",
    "    ax1.set_ylim(-1000, 0)\n",
    "ax2.set_yscale('log')\n",
    "ax3.set_yscale('log')\n",
    "# ax1.set_xscale('log')\n",
    "\n",
    "fig.suptitle(f\"Control Performance on {env_name}\")\n"
   ]
  },
  {
   "cell_type": "code",
   "execution_count": 660,
   "id": "42e9d517",
   "metadata": {
    "scrolled": true
   },
   "outputs": [
    {
     "data": {
      "image/png": "[encoded data removed]",
      "text/plain": [
       "<Figure size 432x324 with 1 Axes>"
      ]
     },
     "metadata": {
      "needs_background": "light"
     },
     "output_type": "display_data"
    }
   ],
   "source": [
    "fig, ax = plt.subplots(figsize=(6, 4.5))\n",
    "for i, (key, vals) in enumerate(data.items()):\n",
    "    rmean = vals[\"Eval Mean Returns\"]\n",
    "    rstderr = vals[\"Eval Std Returns\"]\n",
    "    ndata = vals['Eval ndata']\n",
    "    ax.plot(ndata, rmean, label=key, zorder=100 - i)\n",
    "    ax.fill_between(ndata, rmean - rstderr, rmean + rstderr, alpha=0.3)\n",
    "ax.set_xlabel('Environment Steps')\n",
    "ax.set_ylabel('Returns')\n",
    "ax.axhline(gt_val, color='black', linestyle='--', label=r'$\\pi_T$')\n",
    "ax.legend()\n",
    "ylim_top = (gt_val - bottom_val) * 0.25 + gt_val\n",
    "ax.set_ylim(bottom_val, ylim_top)\n",
    "ax.set_xscale('log')\n",
    "# ax.set_xlim(0, 500)\n",
    "\n",
    "fig.suptitle(f\"Control Performance on {env_name}\")\n",
    "plt.savefig(f'sample_complexity_{env_name}.pdf', bbox_inches='tight')"
   ]
  },
  {
   "cell_type": "code",
   "execution_count": 661,
   "id": "99f5b057",
   "metadata": {
    "scrolled": true
   },
   "outputs": [
    {
     "name": "stdout",
     "output_type": "stream",
     "text": [
      "Sample complexity of algorithms on Reacher\n",
      "BARL: [101, 151, 251, 301, 451]\n",
      "RQMPC: [inf, inf, inf, inf, inf]\n",
      "MPC: [151, 251, 751, 801, 901]\n",
      "PETS: [500, 550, 700, 900, 950]\n",
      "SAC: [18000, 21000, 23000, 28000, 39000]\n",
      "TD3: [11000, 11000, 13000, 14000, 18000]\n",
      "PPO: [inf, inf, inf, inf, inf]\n"
     ]
    }
   ],
   "source": [
    "print(f\"Sample complexity of algorithms on {env_name}\")\n",
    "for key, vals in data.items():\n",
    "    if 'Eval Seed Returns' in vals:\n",
    "        samps = []\n",
    "        for row in vals['Eval Seed Returns']:\n",
    "            try:\n",
    "                sample_idx = np.where(row > gt_val)[0].min()\n",
    "                samps.append(vals['Eval ndata'][sample_idx])\n",
    "            except ValueError:\n",
    "                samps.append(np.inf)\n",
    "        print(f\"{key}: {sorted(samps)}\")\n",
    "        continue\n",
    "    rmean = vals[\"Eval Mean Returns\"]\n",
    "    try:\n",
    "        sample_idx = np.where(rmean > gt_val)[0].min()\n",
    "        sample_complexity = vals['Eval ndata'][sample_idx]\n",
    "    except ValueError:\n",
    "        sample_complexity = None\n",
    "    \n",
    "    print(f\"{key}: {sample_complexity}\")"
   ]
  },
  {
   "cell_type": "code",
   "execution_count": 595,
   "id": "fdd49c68",
   "metadata": {
    "scrolled": true
   },
   "outputs": [
    {
     "ename": "KeyError",
     "evalue": "'Posterior Returns'",
     "output_type": "error",
     "traceback": [
      "\u001b[0;31m---------------------------------------------------------------------------\u001b[0m",
      "\u001b[0;31mKeyError\u001b[0m                                  Traceback (most recent call last)",
      "\u001b[0;32m<ipython-input-595-faf7b9bcb8c4>\u001b[0m in \u001b[0;36m<module>\u001b[0;34m\u001b[0m\n\u001b[0;32m----> 1\u001b[0;31m \u001b[0mpost_array\u001b[0m \u001b[0;34m=\u001b[0m \u001b[0mnp\u001b[0m\u001b[0;34m.\u001b[0m\u001b[0marray\u001b[0m\u001b[0;34m(\u001b[0m\u001b[0mdata\u001b[0m\u001b[0;34m[\u001b[0m\u001b[0;34m'BARL'\u001b[0m\u001b[0;34m]\u001b[0m\u001b[0;34m[\u001b[0m\u001b[0;34m'Posterior Returns'\u001b[0m\u001b[0;34m]\u001b[0m\u001b[0;34m)\u001b[0m\u001b[0;34m\u001b[0m\u001b[0;34m\u001b[0m\u001b[0m\n\u001b[0m\u001b[1;32m      2\u001b[0m \u001b[0mpost_mean\u001b[0m \u001b[0;34m=\u001b[0m \u001b[0mpost_array\u001b[0m\u001b[0;34m.\u001b[0m\u001b[0mmean\u001b[0m\u001b[0;34m(\u001b[0m\u001b[0maxis\u001b[0m\u001b[0;34m=\u001b[0m\u001b[0;36m1\u001b[0m\u001b[0;34m)\u001b[0m\u001b[0;34m\u001b[0m\u001b[0;34m\u001b[0m\u001b[0m\n\u001b[1;32m      3\u001b[0m \u001b[0mpost_std\u001b[0m \u001b[0;34m=\u001b[0m \u001b[0mpost_array\u001b[0m\u001b[0;34m.\u001b[0m\u001b[0mstd\u001b[0m\u001b[0;34m(\u001b[0m\u001b[0maxis\u001b[0m\u001b[0;34m=\u001b[0m\u001b[0;36m1\u001b[0m\u001b[0;34m)\u001b[0m\u001b[0;34m\u001b[0m\u001b[0;34m\u001b[0m\u001b[0m\n\u001b[1;32m      4\u001b[0m \u001b[0mplt\u001b[0m\u001b[0;34m.\u001b[0m\u001b[0mplot\u001b[0m\u001b[0;34m(\u001b[0m\u001b[0mpost_mean\u001b[0m\u001b[0;34m)\u001b[0m\u001b[0;34m\u001b[0m\u001b[0;34m\u001b[0m\u001b[0m\n\u001b[1;32m      5\u001b[0m \u001b[0mplt\u001b[0m\u001b[0;34m.\u001b[0m\u001b[0mfill_between\u001b[0m\u001b[0;34m(\u001b[0m\u001b[0mrange\u001b[0m\u001b[0;34m(\u001b[0m\u001b[0mlen\u001b[0m\u001b[0;34m(\u001b[0m\u001b[0mpost_mean\u001b[0m\u001b[0;34m)\u001b[0m\u001b[0;34m)\u001b[0m\u001b[0;34m,\u001b[0m \u001b[0mpost_mean\u001b[0m \u001b[0;34m-\u001b[0m \u001b[0mpost_std\u001b[0m\u001b[0;34m,\u001b[0m \u001b[0mpost_mean\u001b[0m \u001b[0;34m+\u001b[0m \u001b[0mpost_std\u001b[0m\u001b[0;34m,\u001b[0m \u001b[0malpha\u001b[0m\u001b[0;34m=\u001b[0m\u001b[0;36m0.5\u001b[0m\u001b[0;34m)\u001b[0m\u001b[0;34m\u001b[0m\u001b[0;34m\u001b[0m\u001b[0m\n",
      "\u001b[0;31mKeyError\u001b[0m: 'Posterior Returns'"
     ]
    }
   ],
   "source": [
    "post_array = np.array(data['BARL']['Posterior Returns'])\n",
    "post_mean = post_array.mean(axis=1)\n",
    "post_std = post_array.std(axis=1)\n",
    "plt.plot(post_mean)\n",
    "plt.fill_between(range(len(post_mean)), post_mean - post_std, post_mean + post_std, alpha=0.5)\n",
    "plt.ylim(-15, -2)"
   ]
  },
  {
   "cell_type": "code",
   "execution_count": 666,
   "id": "09256318",
   "metadata": {},
   "outputs": [
    {
     "data": {
      "text/plain": [
       "[1,\n",
       " 51,\n",
       " 101,\n",
       " 151,\n",
       " 201,\n",
       " 251,\n",
       " 301,\n",
       " 351,\n",
       " 401,\n",
       " 451,\n",
       " 501,\n",
       " 551,\n",
       " 601,\n",
       " 651,\n",
       " 701,\n",
       " 751,\n",
       " 801,\n",
       " 851,\n",
       " 901,\n",
       " 951,\n",
       " 1001,\n",
       " 1051,\n",
       " 1101,\n",
       " 1151,\n",
       " 1201,\n",
       " 1251,\n",
       " 1301,\n",
       " 1351,\n",
       " 1401,\n",
       " 1451,\n",
       " 1500]"
      ]
     },
     "execution_count": 666,
     "metadata": {},
     "output_type": "execute_result"
    }
   ],
   "source": [
    "data['MPC']['Eval ndata']\n"
   ]
  },
  {
   "cell_type": "code",
   "execution_count": null,
   "id": "516225d1",
   "metadata": {},
   "outputs": [],
   "source": []
  },
  {
   "cell_type": "code",
   "execution_count": null,
   "id": "db918a3b",
   "metadata": {},
   "outputs": [],
   "source": []
  },
  {
   "cell_type": "code",
   "execution_count": null,
   "id": "b226523d",
   "metadata": {},
   "outputs": [],
   "source": []
  }
 ],
 "metadata": {
  "kernelspec": {
   "display_name": "bac",
   "language": "python",
   "name": "bac"
  },
  "language_info": {
   "codemirror_mode": {
    "name": "ipython",
    "version": 3
   },
   "file_extension": ".py",
   "mimetype": "text/x-python",
   "name": "python",
   "nbconvert_exporter": "python",
   "pygments_lexer": "ipython3",
   "version": "3.9.6"
  }
 },
 "nbformat": 4,
 "nbformat_minor": 5
}
