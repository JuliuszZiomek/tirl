{
 "cells": [
  {
   "cell_type": "code",
   "execution_count": 82,
   "id": "e093e918",
   "metadata": {},
   "outputs": [],
   "source": [
    "import numpy as np\n",
    "import pickle\n",
    "import matplotlib.pyplot as plt\n",
    "import matplotlib\n",
    "from pathlib import Path\n",
    "import seaborn as sns\n",
    "import pandas as pd\n",
    "\n",
    "matplotlib.rcParams['text.usetex'] = True\n",
    "%matplotlib inline"
   ]
  },
  {
   "cell_type": "code",
   "execution_count": 83,
   "id": "9655a2ea",
   "metadata": {},
   "outputs": [],
   "source": [
    "sns.set_theme()"
   ]
  },
  {
   "cell_type": "code",
   "execution_count": 84,
   "id": "83aabede",
   "metadata": {},
   "outputs": [],
   "source": [
    "base_path = Path('../experiments')\n",
    "baseline_path = Path('../../bac-baselines/experiments')\n",
    "process_seeds = True"
   ]
  },
  {
   "cell_type": "code",
   "execution_count": 244,
   "id": "a08e37fe",
   "metadata": {},
   "outputs": [],
   "source": [
    "env_name = 'Pendulum'"
   ]
  },
  {
   "cell_type": "code",
   "execution_count": 245,
   "id": "cdfcfc80",
   "metadata": {},
   "outputs": [],
   "source": [
    "pend_paths = {# 'BAC (seed 12)': 'random_init_12_2021-08-05/10-02-01/',\n",
    "         #'BAC': 'pend_norm_tele_mg_3mc_2021-08-16/21-16-21',\n",
    "         #'Rollout BAC': 'rollout_bac_telenorm_multi_2021-08-17/22-44-48/',\n",
    "         'BARL': 'bac_pendulum_2021-09-25/11-30-28/',\n",
    "         'RQMPC': 'random_pendulum_2021-09-25/15-28-47/',\n",
    "         'MPC': 'mbrl_pendulum_2021-09-25/14-24-08/',\n",
    "         'PETS': 'pets_pendulum_2021-09-26/12-05-56/',\n",
    "         'SAC': 'sac_pendulum_2021-09-27/09-26-10/',\n",
    "         'TD3': 'td3_pendulum_2021-09-27/12-16-18/',\n",
    "         'PPO': 'ppo_pendulum_2021-08-31/12-20-16/',\n",
    "        }"
   ]
  },
  {
   "cell_type": "code",
   "execution_count": 246,
   "id": "9feaa541",
   "metadata": {},
   "outputs": [],
   "source": [
    "cartpole_paths = {\n",
    "         # 'BAC': 'cartpole_multistart_2021-08-20/12-52-46/',\n",
    "         'BARL': 'bac_cartpole_2021-09-25/11-43-07/',\n",
    "         'RQMPC': 'random_cartpole_2021-09-25/15-52-48/',\n",
    "         'MPC': 'mbrl_cartpole_2021-09-25/15-39-45/',\n",
    "         # 'Rollout BAC': 'cartpole_multistart_rollout_bac_2021-08-19/17-59-03/',\n",
    "         'PETS': 'pets_cartpole_2021-09-05/17-17-53/',\n",
    "         'SAC': 'sac_cartpole_2021-09-23/23-41-37/',\n",
    "         'TD3': 'td3_cartpole_2021-08-31/16-45-53/',\n",
    "         'PPO': 'cartpole_ppo_fixed_2021-08-31/extra/',         \n",
    "}"
   ]
  },
  {
   "cell_type": "code",
   "execution_count": 247,
   "id": "f2ac17cc",
   "metadata": {},
   "outputs": [],
   "source": [
    "lava_paths = {\n",
    "        # 'BAC': 'bac_lava_path_2021-09-09/10-57-31/',\n",
    "        'BARL': 'bac_lava_path_ard_2021-09-21/22-02-46/',\n",
    "        'RQMPC': 'random_lava_path_2021-09-23/00-00-49/',\n",
    "        'MPC': 'mbrl_lava_path_ard_2021-09-22/19-46-54/',\n",
    "        'PETS': 'pets_lava_path_2021-09-09/11-12-10/',\n",
    "        'SAC': 'sac_lava_path_2021-09-09/09-59-07/',\n",
    "        'TD3': 'td3_lava_path_2021-09-16/14-18-01/',\n",
    "        'PPO': 'ppo_lava_path_2021-09-09/10-07-50/',\n",
    "}"
   ]
  },
  {
   "cell_type": "code",
   "execution_count": 248,
   "id": "2901708e",
   "metadata": {},
   "outputs": [],
   "source": [
    "reacher_paths = {\n",
    "        # 'BAC (uniform)': 'bac_reacher_2021-09-01/17-14-04/',\n",
    "        # 'BAC (path sampling)': 'bac_reacher_rand_2021-09-01/17-14-02/',\n",
    "        #'SAC': 'sac_reacher_2021-09-02/22-41-22/',\n",
    "        # 'BAC (ARD)': 'ard_reacher_bac_2021-09-18/14-59-33/',\n",
    "        # 'BAC (periodic ARD)':'reacher_periodic_bac_2021-09-18/15-26-28/',\n",
    "        'BAC (heavy path)': 'bac_reacher_heavy_paths_2021-09-27/09-48-01/',\n",
    "        # 'Random (ARD)': 'random_reacher_2021-09-20/13-28-12/',\n",
    "        'PETS': 'pets_reacher_2021-09-22/23-07-34/',\n",
    "}"
   ]
  },
  {
   "cell_type": "code",
   "execution_count": 249,
   "id": "5f0bd83f",
   "metadata": {},
   "outputs": [],
   "source": [
    "beta_tracking_paths = {\n",
    "        'BARL': 'bac_beta_tracking_2021-09-22/19-02-05/',\n",
    "        'RQMPC': 'random_beta_tracking_2021-09-23/18-36-44/',\n",
    "        'MPC': 'mbrl_beta_tracking_2021-09-23/18-37-08/',\n",
    "        'PETS': 'pets_beta_tracking_2021-09-22/18-51-05/',\n",
    "        'SAC': 'sac_beta_tracking_2021-09-23/09-27-24/',\n",
    "        'TD3': 'td3_beta_tracking_2021-09-22/18-30-55/',\n",
    "        'PPO': 'ppo_beta_tracking_2021-09-22/18-32-20/',\n",
    "}"
   ]
  },
  {
   "cell_type": "code",
   "execution_count": 250,
   "id": "b58c090c",
   "metadata": {},
   "outputs": [],
   "source": [
    "reacher_tight_paths = {\n",
    "        #'BAC (ARD)': 'bac_reacher_tight_ard_2021-09-21/10-06-46/',\n",
    "        #'Random (ARD)': 'random_reacher_tight_ard_2021-09-21/23-56-00/',\n",
    "        'BAC (path sampling)': 'bac_reacher_tight_paths_2021-09-25/10-58-57/',\n",
    "        'BAC (heavy hypers)': 'bac_reacher_tight_heavy_hypers_2021-09-25/10-58-04/',\n",
    "        'BAC (heavy path)': 'bac_reacher_tight_heavy_paths_2021-09-26/14-38-26/',\n",
    "        'PETS': 'pets_reacher_tight_2021-09-22/18-59-17/',\n",
    "        # 'SAC': 'sac_reacher_tight_2021-09-22/18-34-13/',\n",
    "        # 'TD3': 'td3_reacher_tight_2021-09-22/15-24-00/',\n",
    "        # 'PPO': 'ppo_reacher_tight_2021-09-22/15-25-08/',\n",
    "}"
   ]
  },
  {
   "cell_type": "code",
   "execution_count": 251,
   "id": "ecca772b",
   "metadata": {},
   "outputs": [],
   "source": [
    "swimmer_paths = {\n",
    "        'BAC (ARD)': 'bac_swimmer_ard_2021-09-17/15-13-29/'\n",
    "}"
   ]
  },
  {
   "cell_type": "code",
   "execution_count": 252,
   "id": "52e955e6",
   "metadata": {},
   "outputs": [],
   "source": [
    "all_paths = {\"Cartpole\": cartpole_paths,\n",
    "             \"Pendulum\": pend_paths,\n",
    "             \"Reacher\": reacher_paths, \n",
    "             'Lava Path': lava_paths, \n",
    "             \"Reacher (tight)\": reacher_tight_paths,\n",
    "             \"Beta Tracking\": beta_tracking_paths,\n",
    "             'Swimmer': swimmer_paths,\n",
    "            }\n",
    "paths = all_paths[env_name]\n",
    "gt = {\"Pendulum\": -250,\n",
    "      \"Cartpole\": -13,\n",
    "      \"Reacher\": -5,\n",
    "      'Lava Path': -25,\n",
    "      'Reacher (tight)': -8.78,\n",
    "      'Swimmer': 30,\n",
    "      'Beta Tracking': -3}\n",
    "gt_val = gt[env_name]"
   ]
  },
  {
   "cell_type": "code",
   "execution_count": 253,
   "id": "b5a86878",
   "metadata": {},
   "outputs": [],
   "source": [
    "def process_bac(data):\n",
    "    returns = np.vstack(data['Eval Returns'])\n",
    "\n",
    "    data['Eval Mean Returns'] = returns.mean(axis=1)\n",
    "    data['Eval Std Returns'] = returns.std(axis=1)#  / np.sqrt(returns.shape[1])\n",
    "    return data\n",
    "\n",
    "\n",
    "def process_bac_seeds(path):\n",
    "    data = {}\n",
    "    returns = []\n",
    "    for i in range(5):\n",
    "        seed_path = path / f\"seed_{i}\" / \"info.pkl\"\n",
    "        with seed_path.open('rb') as f:\n",
    "            seed_data = pickle.load(f)\n",
    "        seed_returns = np.vstack(seed_data['Eval Returns'])\n",
    "        returns.append(seed_returns.mean(axis=1))\n",
    "        if i == 0:\n",
    "            data['Eval ndata'] = seed_data['Eval ndata']\n",
    "    returns = np.vstack(returns)\n",
    "    \n",
    "    data['Eval Mean Returns'] = returns.mean(axis=0)\n",
    "    data['Eval Std Returns'] = returns.std(axis=0) / np.sqrt(5)\n",
    "    data['Eval Seed Returns'] = returns\n",
    "    return data\n",
    "            \n",
    "\n",
    "def process_baseline(data):\n",
    "    out = {}\n",
    "    out['Eval Mean Returns'] = data[\"evaluation/Returns Mean\"]\n",
    "    out['Eval ndata'] = data['exploration/num steps total']\n",
    "    out['Eval Std Returns'] = data['evaluation/Returns Std']\n",
    "    return out\n",
    "\n",
    "\n",
    "def process_baseline_seeds(path):\n",
    "    if (path / f\"seed_0\" / \"info.pkl\").exists():\n",
    "        return process_bac_seeds(path)\n",
    "    data = {}\n",
    "    returns = []\n",
    "    for i in range(5):\n",
    "        seed_path = path / f\"seed_{i}\" / \"progress.csv\"\n",
    "        data_res = pd.read_csv(seed_path)\n",
    "        returns.append(data_res[\"evaluation/Returns Mean\"])\n",
    "        if i == 0:\n",
    "            data['Eval ndata'] = data_res['exploration/num steps total']\n",
    "    returns = np.vstack(returns)\n",
    "    \n",
    "    data['Eval Mean Returns'] = returns.mean(axis=0)\n",
    "    data['Eval Std Returns'] = returns.std(axis=0) / np.sqrt(5)\n",
    "    data['Eval Seed Returns'] = returns\n",
    "    return data"
   ]
  },
  {
   "cell_type": "code",
   "execution_count": 255,
   "id": "165ffe6b",
   "metadata": {
    "scrolled": true
   },
   "outputs": [
    {
     "ename": "KeyError",
     "evalue": "'Pendulum'",
     "output_type": "error",
     "traceback": [
      "\u001b[0;31m---------------------------------------------------------------------------\u001b[0m",
      "\u001b[0;31mKeyError\u001b[0m                                  Traceback (most recent call last)",
      "\u001b[0;32m<ipython-input-255-b70b86ca2115>\u001b[0m in \u001b[0;36m<module>\u001b[0;34m\u001b[0m\n\u001b[0;32m----> 1\u001b[0;31m \u001b[0mdata\u001b[0m\u001b[0;34m[\u001b[0m\u001b[0;34m'Pendulum'\u001b[0m\u001b[0;34m]\u001b[0m\u001b[0;34m\u001b[0m\u001b[0;34m\u001b[0m\u001b[0m\n\u001b[0m",
      "\u001b[0;31mKeyError\u001b[0m: 'Pendulum'"
     ]
    }
   ],
   "source": []
  },
  {
   "cell_type": "code",
   "execution_count": 254,
   "id": "bfba23d1",
   "metadata": {},
   "outputs": [
    {
     "name": "stdout",
     "output_type": "stream",
     "text": [
      "BARL\n",
      "found seed data for BARL\n",
      "RQMPC\n",
      "found seed data for RQMPC\n",
      "MPC\n",
      "found seed data for MPC\n",
      "PETS\n",
      "found seed data for PETS\n",
      "SAC\n"
     ]
    },
    {
     "ename": "FileNotFoundError",
     "evalue": "[Errno 2] No such file or directory: '../../bac-baselines/experiments/sac_pendulum_2021-09-27/09-26-10/seed_1/progress.csv'",
     "output_type": "error",
     "traceback": [
      "\u001b[0;31m---------------------------------------------------------------------------\u001b[0m",
      "\u001b[0;31mFileNotFoundError\u001b[0m                         Traceback (most recent call last)",
      "\u001b[0;32m<ipython-input-254-54a9ef9e6b56>\u001b[0m in \u001b[0;36m<module>\u001b[0;34m\u001b[0m\n\u001b[1;32m     29\u001b[0m     \u001b[0;32mif\u001b[0m \u001b[0mbaseline_seed_path\u001b[0m\u001b[0;34m.\u001b[0m\u001b[0mexists\u001b[0m\u001b[0;34m(\u001b[0m\u001b[0;34m)\u001b[0m\u001b[0;34m:\u001b[0m\u001b[0;34m\u001b[0m\u001b[0;34m\u001b[0m\u001b[0m\n\u001b[1;32m     30\u001b[0m         \u001b[0;32mif\u001b[0m \u001b[0;32mTrue\u001b[0m\u001b[0;34m:\u001b[0m\u001b[0;34m\u001b[0m\u001b[0;34m\u001b[0m\u001b[0m\n\u001b[0;32m---> 31\u001b[0;31m             \u001b[0mdata\u001b[0m\u001b[0;34m[\u001b[0m\u001b[0mkey\u001b[0m\u001b[0;34m]\u001b[0m \u001b[0;34m=\u001b[0m \u001b[0mprocess_baseline_seeds\u001b[0m\u001b[0;34m(\u001b[0m\u001b[0mbaseline_path\u001b[0m \u001b[0;34m/\u001b[0m \u001b[0mpath\u001b[0m\u001b[0;34m)\u001b[0m\u001b[0;34m\u001b[0m\u001b[0;34m\u001b[0m\u001b[0m\n\u001b[0m\u001b[1;32m     32\u001b[0m         \u001b[0;32melse\u001b[0m\u001b[0;34m:\u001b[0m\u001b[0;34m\u001b[0m\u001b[0;34m\u001b[0m\u001b[0m\n\u001b[1;32m     33\u001b[0m             \u001b[0mdata\u001b[0m\u001b[0;34m[\u001b[0m\u001b[0mkey\u001b[0m\u001b[0;34m]\u001b[0m \u001b[0;34m=\u001b[0m \u001b[0mprocess_baseline\u001b[0m\u001b[0;34m(\u001b[0m\u001b[0mbaseline_seed_path\u001b[0m\u001b[0;34m)\u001b[0m\u001b[0;34m\u001b[0m\u001b[0;34m\u001b[0m\u001b[0m\n",
      "\u001b[0;32m<ipython-input-253-8836804a7b7d>\u001b[0m in \u001b[0;36mprocess_baseline_seeds\u001b[0;34m(path)\u001b[0m\n\u001b[1;32m     41\u001b[0m     \u001b[0;32mfor\u001b[0m \u001b[0mi\u001b[0m \u001b[0;32min\u001b[0m \u001b[0mrange\u001b[0m\u001b[0;34m(\u001b[0m\u001b[0;36m5\u001b[0m\u001b[0;34m)\u001b[0m\u001b[0;34m:\u001b[0m\u001b[0;34m\u001b[0m\u001b[0;34m\u001b[0m\u001b[0m\n\u001b[1;32m     42\u001b[0m         \u001b[0mseed_path\u001b[0m \u001b[0;34m=\u001b[0m \u001b[0mpath\u001b[0m \u001b[0;34m/\u001b[0m \u001b[0;34mf\"seed_{i}\"\u001b[0m \u001b[0;34m/\u001b[0m \u001b[0;34m\"progress.csv\"\u001b[0m\u001b[0;34m\u001b[0m\u001b[0;34m\u001b[0m\u001b[0m\n\u001b[0;32m---> 43\u001b[0;31m         \u001b[0mdata_res\u001b[0m \u001b[0;34m=\u001b[0m \u001b[0mpd\u001b[0m\u001b[0;34m.\u001b[0m\u001b[0mread_csv\u001b[0m\u001b[0;34m(\u001b[0m\u001b[0mseed_path\u001b[0m\u001b[0;34m)\u001b[0m\u001b[0;34m\u001b[0m\u001b[0;34m\u001b[0m\u001b[0m\n\u001b[0m\u001b[1;32m     44\u001b[0m         \u001b[0mreturns\u001b[0m\u001b[0;34m.\u001b[0m\u001b[0mappend\u001b[0m\u001b[0;34m(\u001b[0m\u001b[0mdata_res\u001b[0m\u001b[0;34m[\u001b[0m\u001b[0;34m\"evaluation/Returns Mean\"\u001b[0m\u001b[0;34m]\u001b[0m\u001b[0;34m)\u001b[0m\u001b[0;34m\u001b[0m\u001b[0;34m\u001b[0m\u001b[0m\n\u001b[1;32m     45\u001b[0m         \u001b[0;32mif\u001b[0m \u001b[0mi\u001b[0m \u001b[0;34m==\u001b[0m \u001b[0;36m0\u001b[0m\u001b[0;34m:\u001b[0m\u001b[0;34m\u001b[0m\u001b[0;34m\u001b[0m\u001b[0m\n",
      "\u001b[0;32m~/src/bayesian-active-control/venvbac/lib/python3.9/site-packages/pandas/util/_decorators.py\u001b[0m in \u001b[0;36mwrapper\u001b[0;34m(*args, **kwargs)\u001b[0m\n\u001b[1;32m    309\u001b[0m                     \u001b[0mstacklevel\u001b[0m\u001b[0;34m=\u001b[0m\u001b[0mstacklevel\u001b[0m\u001b[0;34m,\u001b[0m\u001b[0;34m\u001b[0m\u001b[0;34m\u001b[0m\u001b[0m\n\u001b[1;32m    310\u001b[0m                 )\n\u001b[0;32m--> 311\u001b[0;31m             \u001b[0;32mreturn\u001b[0m \u001b[0mfunc\u001b[0m\u001b[0;34m(\u001b[0m\u001b[0;34m*\u001b[0m\u001b[0margs\u001b[0m\u001b[0;34m,\u001b[0m \u001b[0;34m**\u001b[0m\u001b[0mkwargs\u001b[0m\u001b[0;34m)\u001b[0m\u001b[0;34m\u001b[0m\u001b[0;34m\u001b[0m\u001b[0m\n\u001b[0m\u001b[1;32m    312\u001b[0m \u001b[0;34m\u001b[0m\u001b[0m\n\u001b[1;32m    313\u001b[0m         \u001b[0;32mreturn\u001b[0m \u001b[0mwrapper\u001b[0m\u001b[0;34m\u001b[0m\u001b[0;34m\u001b[0m\u001b[0m\n",
      "\u001b[0;32m~/src/bayesian-active-control/venvbac/lib/python3.9/site-packages/pandas/io/parsers/readers.py\u001b[0m in \u001b[0;36mread_csv\u001b[0;34m(filepath_or_buffer, sep, delimiter, header, names, index_col, usecols, squeeze, prefix, mangle_dupe_cols, dtype, engine, converters, true_values, false_values, skipinitialspace, skiprows, skipfooter, nrows, na_values, keep_default_na, na_filter, verbose, skip_blank_lines, parse_dates, infer_datetime_format, keep_date_col, date_parser, dayfirst, cache_dates, iterator, chunksize, compression, thousands, decimal, lineterminator, quotechar, quoting, doublequote, escapechar, comment, encoding, encoding_errors, dialect, error_bad_lines, warn_bad_lines, on_bad_lines, delim_whitespace, low_memory, memory_map, float_precision, storage_options)\u001b[0m\n\u001b[1;32m    584\u001b[0m     \u001b[0mkwds\u001b[0m\u001b[0;34m.\u001b[0m\u001b[0mupdate\u001b[0m\u001b[0;34m(\u001b[0m\u001b[0mkwds_defaults\u001b[0m\u001b[0;34m)\u001b[0m\u001b[0;34m\u001b[0m\u001b[0;34m\u001b[0m\u001b[0m\n\u001b[1;32m    585\u001b[0m \u001b[0;34m\u001b[0m\u001b[0m\n\u001b[0;32m--> 586\u001b[0;31m     \u001b[0;32mreturn\u001b[0m \u001b[0m_read\u001b[0m\u001b[0;34m(\u001b[0m\u001b[0mfilepath_or_buffer\u001b[0m\u001b[0;34m,\u001b[0m \u001b[0mkwds\u001b[0m\u001b[0;34m)\u001b[0m\u001b[0;34m\u001b[0m\u001b[0;34m\u001b[0m\u001b[0m\n\u001b[0m\u001b[1;32m    587\u001b[0m \u001b[0;34m\u001b[0m\u001b[0m\n\u001b[1;32m    588\u001b[0m \u001b[0;34m\u001b[0m\u001b[0m\n",
      "\u001b[0;32m~/src/bayesian-active-control/venvbac/lib/python3.9/site-packages/pandas/io/parsers/readers.py\u001b[0m in \u001b[0;36m_read\u001b[0;34m(filepath_or_buffer, kwds)\u001b[0m\n\u001b[1;32m    480\u001b[0m \u001b[0;34m\u001b[0m\u001b[0m\n\u001b[1;32m    481\u001b[0m     \u001b[0;31m# Create the parser.\u001b[0m\u001b[0;34m\u001b[0m\u001b[0;34m\u001b[0m\u001b[0;34m\u001b[0m\u001b[0m\n\u001b[0;32m--> 482\u001b[0;31m     \u001b[0mparser\u001b[0m \u001b[0;34m=\u001b[0m \u001b[0mTextFileReader\u001b[0m\u001b[0;34m(\u001b[0m\u001b[0mfilepath_or_buffer\u001b[0m\u001b[0;34m,\u001b[0m \u001b[0;34m**\u001b[0m\u001b[0mkwds\u001b[0m\u001b[0;34m)\u001b[0m\u001b[0;34m\u001b[0m\u001b[0;34m\u001b[0m\u001b[0m\n\u001b[0m\u001b[1;32m    483\u001b[0m \u001b[0;34m\u001b[0m\u001b[0m\n\u001b[1;32m    484\u001b[0m     \u001b[0;32mif\u001b[0m \u001b[0mchunksize\u001b[0m \u001b[0;32mor\u001b[0m \u001b[0miterator\u001b[0m\u001b[0;34m:\u001b[0m\u001b[0;34m\u001b[0m\u001b[0;34m\u001b[0m\u001b[0m\n",
      "\u001b[0;32m~/src/bayesian-active-control/venvbac/lib/python3.9/site-packages/pandas/io/parsers/readers.py\u001b[0m in \u001b[0;36m__init__\u001b[0;34m(self, f, engine, **kwds)\u001b[0m\n\u001b[1;32m    809\u001b[0m             \u001b[0mself\u001b[0m\u001b[0;34m.\u001b[0m\u001b[0moptions\u001b[0m\u001b[0;34m[\u001b[0m\u001b[0;34m\"has_index_names\"\u001b[0m\u001b[0;34m]\u001b[0m \u001b[0;34m=\u001b[0m \u001b[0mkwds\u001b[0m\u001b[0;34m[\u001b[0m\u001b[0;34m\"has_index_names\"\u001b[0m\u001b[0;34m]\u001b[0m\u001b[0;34m\u001b[0m\u001b[0;34m\u001b[0m\u001b[0m\n\u001b[1;32m    810\u001b[0m \u001b[0;34m\u001b[0m\u001b[0m\n\u001b[0;32m--> 811\u001b[0;31m         \u001b[0mself\u001b[0m\u001b[0;34m.\u001b[0m\u001b[0m_engine\u001b[0m \u001b[0;34m=\u001b[0m \u001b[0mself\u001b[0m\u001b[0;34m.\u001b[0m\u001b[0m_make_engine\u001b[0m\u001b[0;34m(\u001b[0m\u001b[0mself\u001b[0m\u001b[0;34m.\u001b[0m\u001b[0mengine\u001b[0m\u001b[0;34m)\u001b[0m\u001b[0;34m\u001b[0m\u001b[0;34m\u001b[0m\u001b[0m\n\u001b[0m\u001b[1;32m    812\u001b[0m \u001b[0;34m\u001b[0m\u001b[0m\n\u001b[1;32m    813\u001b[0m     \u001b[0;32mdef\u001b[0m \u001b[0mclose\u001b[0m\u001b[0;34m(\u001b[0m\u001b[0mself\u001b[0m\u001b[0;34m)\u001b[0m\u001b[0;34m:\u001b[0m\u001b[0;34m\u001b[0m\u001b[0;34m\u001b[0m\u001b[0m\n",
      "\u001b[0;32m~/src/bayesian-active-control/venvbac/lib/python3.9/site-packages/pandas/io/parsers/readers.py\u001b[0m in \u001b[0;36m_make_engine\u001b[0;34m(self, engine)\u001b[0m\n\u001b[1;32m   1038\u001b[0m             )\n\u001b[1;32m   1039\u001b[0m         \u001b[0;31m# error: Too many arguments for \"ParserBase\"\u001b[0m\u001b[0;34m\u001b[0m\u001b[0;34m\u001b[0m\u001b[0;34m\u001b[0m\u001b[0m\n\u001b[0;32m-> 1040\u001b[0;31m         \u001b[0;32mreturn\u001b[0m \u001b[0mmapping\u001b[0m\u001b[0;34m[\u001b[0m\u001b[0mengine\u001b[0m\u001b[0;34m]\u001b[0m\u001b[0;34m(\u001b[0m\u001b[0mself\u001b[0m\u001b[0;34m.\u001b[0m\u001b[0mf\u001b[0m\u001b[0;34m,\u001b[0m \u001b[0;34m**\u001b[0m\u001b[0mself\u001b[0m\u001b[0;34m.\u001b[0m\u001b[0moptions\u001b[0m\u001b[0;34m)\u001b[0m  \u001b[0;31m# type: ignore[call-arg]\u001b[0m\u001b[0;34m\u001b[0m\u001b[0;34m\u001b[0m\u001b[0m\n\u001b[0m\u001b[1;32m   1041\u001b[0m \u001b[0;34m\u001b[0m\u001b[0m\n\u001b[1;32m   1042\u001b[0m     \u001b[0;32mdef\u001b[0m \u001b[0m_failover_to_python\u001b[0m\u001b[0;34m(\u001b[0m\u001b[0mself\u001b[0m\u001b[0;34m)\u001b[0m\u001b[0;34m:\u001b[0m\u001b[0;34m\u001b[0m\u001b[0;34m\u001b[0m\u001b[0m\n",
      "\u001b[0;32m~/src/bayesian-active-control/venvbac/lib/python3.9/site-packages/pandas/io/parsers/c_parser_wrapper.py\u001b[0m in \u001b[0;36m__init__\u001b[0;34m(self, src, **kwds)\u001b[0m\n\u001b[1;32m     49\u001b[0m \u001b[0;34m\u001b[0m\u001b[0m\n\u001b[1;32m     50\u001b[0m         \u001b[0;31m# open handles\u001b[0m\u001b[0;34m\u001b[0m\u001b[0;34m\u001b[0m\u001b[0;34m\u001b[0m\u001b[0m\n\u001b[0;32m---> 51\u001b[0;31m         \u001b[0mself\u001b[0m\u001b[0;34m.\u001b[0m\u001b[0m_open_handles\u001b[0m\u001b[0;34m(\u001b[0m\u001b[0msrc\u001b[0m\u001b[0;34m,\u001b[0m \u001b[0mkwds\u001b[0m\u001b[0;34m)\u001b[0m\u001b[0;34m\u001b[0m\u001b[0;34m\u001b[0m\u001b[0m\n\u001b[0m\u001b[1;32m     52\u001b[0m         \u001b[0;32massert\u001b[0m \u001b[0mself\u001b[0m\u001b[0;34m.\u001b[0m\u001b[0mhandles\u001b[0m \u001b[0;32mis\u001b[0m \u001b[0;32mnot\u001b[0m \u001b[0;32mNone\u001b[0m\u001b[0;34m\u001b[0m\u001b[0;34m\u001b[0m\u001b[0m\n\u001b[1;32m     53\u001b[0m \u001b[0;34m\u001b[0m\u001b[0m\n",
      "\u001b[0;32m~/src/bayesian-active-control/venvbac/lib/python3.9/site-packages/pandas/io/parsers/base_parser.py\u001b[0m in \u001b[0;36m_open_handles\u001b[0;34m(self, src, kwds)\u001b[0m\n\u001b[1;32m    220\u001b[0m         \u001b[0mLet\u001b[0m \u001b[0mthe\u001b[0m \u001b[0mreaders\u001b[0m \u001b[0mopen\u001b[0m \u001b[0mIOHandles\u001b[0m \u001b[0mafter\u001b[0m \u001b[0mthey\u001b[0m \u001b[0mare\u001b[0m \u001b[0mdone\u001b[0m \u001b[0;32mwith\u001b[0m \u001b[0mtheir\u001b[0m \u001b[0mpotential\u001b[0m \u001b[0mraises\u001b[0m\u001b[0;34m.\u001b[0m\u001b[0;34m\u001b[0m\u001b[0;34m\u001b[0m\u001b[0m\n\u001b[1;32m    221\u001b[0m         \"\"\"\n\u001b[0;32m--> 222\u001b[0;31m         self.handles = get_handle(\n\u001b[0m\u001b[1;32m    223\u001b[0m             \u001b[0msrc\u001b[0m\u001b[0;34m,\u001b[0m\u001b[0;34m\u001b[0m\u001b[0;34m\u001b[0m\u001b[0m\n\u001b[1;32m    224\u001b[0m             \u001b[0;34m\"r\"\u001b[0m\u001b[0;34m,\u001b[0m\u001b[0;34m\u001b[0m\u001b[0;34m\u001b[0m\u001b[0m\n",
      "\u001b[0;32m~/src/bayesian-active-control/venvbac/lib/python3.9/site-packages/pandas/io/common.py\u001b[0m in \u001b[0;36mget_handle\u001b[0;34m(path_or_buf, mode, encoding, compression, memory_map, is_text, errors, storage_options)\u001b[0m\n\u001b[1;32m    699\u001b[0m         \u001b[0;32mif\u001b[0m \u001b[0mioargs\u001b[0m\u001b[0;34m.\u001b[0m\u001b[0mencoding\u001b[0m \u001b[0;32mand\u001b[0m \u001b[0;34m\"b\"\u001b[0m \u001b[0;32mnot\u001b[0m \u001b[0;32min\u001b[0m \u001b[0mioargs\u001b[0m\u001b[0;34m.\u001b[0m\u001b[0mmode\u001b[0m\u001b[0;34m:\u001b[0m\u001b[0;34m\u001b[0m\u001b[0;34m\u001b[0m\u001b[0m\n\u001b[1;32m    700\u001b[0m             \u001b[0;31m# Encoding\u001b[0m\u001b[0;34m\u001b[0m\u001b[0;34m\u001b[0m\u001b[0;34m\u001b[0m\u001b[0m\n\u001b[0;32m--> 701\u001b[0;31m             handle = open(\n\u001b[0m\u001b[1;32m    702\u001b[0m                 \u001b[0mhandle\u001b[0m\u001b[0;34m,\u001b[0m\u001b[0;34m\u001b[0m\u001b[0;34m\u001b[0m\u001b[0m\n\u001b[1;32m    703\u001b[0m                 \u001b[0mioargs\u001b[0m\u001b[0;34m.\u001b[0m\u001b[0mmode\u001b[0m\u001b[0;34m,\u001b[0m\u001b[0;34m\u001b[0m\u001b[0;34m\u001b[0m\u001b[0m\n",
      "\u001b[0;31mFileNotFoundError\u001b[0m: [Errno 2] No such file or directory: '../../bac-baselines/experiments/sac_pendulum_2021-09-27/09-26-10/seed_1/progress.csv'"
     ]
    }
   ],
   "source": [
    "data = {}\n",
    "for key, path in paths.items():\n",
    "    print(key)\n",
    "    info_path = base_path / path / 'info.pkl'\n",
    "    if info_path.exists():\n",
    "        with info_path.open('rb') as f:\n",
    "            data[key] = process_bac(pickle.load(f))\n",
    "        continue\n",
    "    info_seed_path = base_path / path / 'seed_0'\n",
    "    if info_seed_path.exists():\n",
    "        if process_seeds:\n",
    "            data[key] = process_bac_seeds(base_path / path)\n",
    "        else:\n",
    "            data[key] = process_bac(info_seed_path)\n",
    "        print(f'found seed data for {key}')\n",
    "        continue\n",
    "    baseline_exp_path = baseline_path / path / 'progress.csv'\n",
    "    if baseline_exp_path.exists():\n",
    "        data_res = pd.read_csv(baseline_exp_path)\n",
    "        reformatted_data = process_baseline(data_res)\n",
    "        data[key] = reformatted_data\n",
    "        continue\n",
    "    baseline_pkl_path = baseline_path / path / 'info.pkl'\n",
    "    if baseline_pkl_path.exists():\n",
    "        with baseline_pkl_path.open('rb') as f:\n",
    "            data[key] = process_bac(pickle.load(f))\n",
    "        continue\n",
    "    baseline_seed_path = baseline_path / path /'seed_0'\n",
    "    if baseline_seed_path.exists():\n",
    "        if True:\n",
    "            data[key] = process_baseline_seeds(baseline_path / path)\n",
    "        else:\n",
    "            data[key] = process_baseline(baseline_seed_path)\n",
    "        print(f\"found seed data for {key}\")\n",
    "        continue\n",
    "    print(f\"Data for {key} not found!\")"
   ]
  },
  {
   "cell_type": "code",
   "execution_count": 241,
   "id": "5dde48c7",
   "metadata": {
    "scrolled": true
   },
   "outputs": [
    {
     "data": {
      "text/plain": [
       "Text(0.5, 0.98, 'Control Performance on Cartpole')"
      ]
     },
     "execution_count": 241,
     "metadata": {},
     "output_type": "execute_result"
    },
    {
     "data": {
      "image/png": "[encoded data removed]",
      "text/plain": [
       "<Figure size 1296x540 with 4 Axes>"
      ]
     },
     "metadata": {},
     "output_type": "display_data"
    }
   ],
   "source": [
    "fig, [ax1, ax2, ax3, ax4] = plt.subplots(1, 4, figsize=(18, 7.5))\n",
    "for key, vals in data.items():\n",
    "    rmean = vals[\"Eval Mean Returns\"]\n",
    "    rstderr = vals[\"Eval Std Returns\"]\n",
    "    ndata = vals['Eval ndata']\n",
    "    ax1.plot(ndata, rmean, label=key)\n",
    "    ax1.fill_between(ndata, rmean - rstderr, rmean + rstderr, alpha=0.5)\n",
    "    if 'Model MSE' in vals:\n",
    "        mses = vals['Model MSE']\n",
    "        ax2.plot(ndata, mses, label=key)\n",
    "    elif 'Model MSE (current MPC)' in vals:\n",
    "        mses = vals['Model MSE (current MPC)']\n",
    "        ax2.plot(ndata, mses, label=key)\n",
    "    if 'Model MSE (random test set)' in vals:\n",
    "        mses = vals['Model MSE (random test set)']\n",
    "        ax3.plot(ndata, mses, label=key)\n",
    "    if 'Acquisition Function Value' in vals:\n",
    "        acqs = vals['Acquisition Function Value']\n",
    "        ax4.plot(acqs, label=key)\n",
    "    else:\n",
    "        ax4.plot([], label=key)\n",
    "\n",
    "        \n",
    "ax1.set_xlabel('Number of Queries')\n",
    "ax1.set_ylabel('Returns')\n",
    "ax1.axhline(gt_val, color='black', linestyle='--', label=r'$\\pi_T$')\n",
    "ax1.legend()\n",
    "ax2.set_xlabel('Number of Queries')\n",
    "ax2.set_ylabel('Model MSE on Current MPC')\n",
    "ax3.set_ylabel(\"MSE on Random Set\")\n",
    "ax3.set_xlabel('Number of Queries')\n",
    "ax4.set_xlabel('Number of Queries')\n",
    "ax4.set_ylabel('EIG')\n",
    "if env_name == 'Lava Path':\n",
    "    ax1.set_ylim(-1000, 0)\n",
    "ax2.set_yscale('log')\n",
    "ax3.set_yscale('log')\n",
    "ax1.set_xscale('log')\n",
    "\n",
    "fig.suptitle(f\"Control Performance on {env_name}\")\n"
   ]
  },
  {
   "cell_type": "code",
   "execution_count": 242,
   "id": "42e9d517",
   "metadata": {},
   "outputs": [
    {
     "data": {
      "text/plain": [
       "Text(0.5, 0.98, 'Control Performance on Cartpole')"
      ]
     },
     "execution_count": 242,
     "metadata": {},
     "output_type": "execute_result"
    },
    {
     "data": {
      "image/png": "[encoded data removed]",
      "text/plain": [
       "<Figure size 432x324 with 1 Axes>"
      ]
     },
     "metadata": {},
     "output_type": "display_data"
    }
   ],
   "source": [
    "fig, ax = plt.subplots(figsize=(6, 4.5))\n",
    "for key, vals in data.items():\n",
    "    rmean = vals[\"Eval Mean Returns\"]\n",
    "    rstderr = vals[\"Eval Std Returns\"]\n",
    "    ndata = vals['Eval ndata']\n",
    "    ax.plot(ndata, rmean, label=key)\n",
    "    ax.fill_between(ndata, rmean - rstderr, rmean + rstderr, alpha=0.5)\n",
    "ax.set_xlabel('Number of Queries')\n",
    "ax.set_ylabel('Returns')\n",
    "ax.axhline(gt_val, color='black', linestyle='--', label=r'$\\pi_T$')\n",
    "ax.legend()\n",
    "if env_name == 'Lava Path':\n",
    "    ax.set_ylim(-500, 0)\n",
    "if env_name == 'Beta Tracking':\n",
    "    ax.set_ylim(-15, 0)\n",
    "if env_name == \"Reacher (tight)\" or env_name == \"Reacher\":\n",
    "    ax.set_ylim(-15, -2)\n",
    "ax.set_xscale('log')\n",
    "# ax.set_xlim(0, 3000)\n",
    "\n",
    "fig.suptitle(f\"Control Performance on {env_name}\")"
   ]
  },
  {
   "cell_type": "code",
   "execution_count": 243,
   "id": "99f5b057",
   "metadata": {},
   "outputs": [
    {
     "name": "stdout",
     "output_type": "stream",
     "text": [
      "Sample complexity of algorithms on Cartpole\n"
     ]
    }
   ],
   "source": [
    "print(f\"Sample complexity of algorithms on {env_name}\")\n",
    "for key, vals in data.items():\n",
    "    if 'Eval Seed Returns' in vals:\n",
    "        samps = []\n",
    "        for row in vals['Eval Seed Returns']:\n",
    "            try:\n",
    "                sample_idx = np.where(row > gt_val)[0].min()\n",
    "                samps.append(vals['Eval ndata'][sample_idx])\n",
    "            except ValueError:\n",
    "                samps.append(np.inf)\n",
    "        print(f\"{key}: {sorted(samps)}\")\n",
    "        continue\n",
    "    rmean = vals[\"Eval Mean Returns\"]\n",
    "    try:\n",
    "        sample_idx = np.where(rmean > gt_val)[0].min()\n",
    "        sample_complexity = vals['Eval ndata'][sample_idx]\n",
    "    except ValueError:\n",
    "        sample_complexity = None\n",
    "    \n",
    "    print(f\"{key}: {sample_complexity}\")"
   ]
  },
  {
   "cell_type": "code",
   "execution_count": null,
   "id": "fdd49c68",
   "metadata": {},
   "outputs": [],
   "source": []
  },
  {
   "cell_type": "code",
   "execution_count": null,
   "id": "cd52dae7",
   "metadata": {},
   "outputs": [],
   "source": []
  },
  {
   "cell_type": "code",
   "execution_count": null,
   "id": "5ab4ae29",
   "metadata": {},
   "outputs": [],
   "source": []
  }
 ],
 "metadata": {
  "kernelspec": {
   "display_name": "bac",
   "language": "python",
   "name": "bac"
  },
  "language_info": {
   "codemirror_mode": {
    "name": "ipython",
    "version": 3
   },
   "file_extension": ".py",
   "mimetype": "text/x-python",
   "name": "python",
   "nbconvert_exporter": "python",
   "pygments_lexer": "ipython3",
   "version": "3.9.6"
  }
 },
 "nbformat": 4,
 "nbformat_minor": 5
}
